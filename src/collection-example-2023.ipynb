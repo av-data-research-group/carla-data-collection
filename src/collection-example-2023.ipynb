{
 "cells": [
  {
   "cell_type": "code",
   "execution_count": 1,
   "metadata": {},
   "outputs": [],
   "source": [
    "import carla\n",
    "import random\n",
    "from multiprocessing import Process\n",
    "import queue\n",
    "import time"
   ]
  },
  {
   "cell_type": "markdown",
   "metadata": {},
   "source": [
    "### Utils functions"
   ]
  },
  {
   "cell_type": "code",
   "execution_count": 2,
   "metadata": {},
   "outputs": [],
   "source": [
    "SENSOR_TICK = 3\n",
    "\n",
    "def get_cam_blueprint(world, vehicle_id):\n",
    "    cam_bp = world.get_blueprint_library().find('sensor.camera.rgb')\n",
    "    cam_bp.set_attribute(\"image_size_x\",str(400 + vehicle_id))\n",
    "    cam_bp.set_attribute(\"image_size_y\",str(300))\n",
    "    cam_bp.set_attribute(\"fov\",str(100))\n",
    "    cam_bp.set_attribute(\"sensor_tick\",str(SENSOR_TICK))\n",
    "    return cam_bp\n",
    "\n",
    "\n",
    "def get_lidar_blueprint(world, vehicle_id):\n",
    "    lidar_bp = world.get_blueprint_library().find('sensor.lidar.ray_cast')\n",
    "    lidar_bp.set_attribute('sensor_tick', str(SENSOR_TICK))\n",
    "    #lidar_bp.set_attribute('channels', '64')\n",
    "    lidar_bp.set_attribute('channels', str(vehicle_id))\n",
    "    lidar_bp.set_attribute('points_per_second', '1120000')\n",
    "    lidar_bp.set_attribute('upper_fov', '30')\n",
    "    lidar_bp.set_attribute('range', '100')\n",
    "    lidar_bp.set_attribute('rotation_frequency', '20')\n",
    "    return lidar_bp\n",
    "\n",
    "def geolocation_blueprint(world, vehicle_id):\n",
    "    gnss_bp = world.get_blueprint_library().find('sensor.other.gnss')\n",
    "    gnss_bp.set_attribute('sensor_tick', str(SENSOR_TICK))\n",
    "    return gnss_bp\n",
    "\n",
    "\n",
    "def retrieve_data(sensor_queue, timeout=5):\n",
    "    while True:\n",
    "        try:\n",
    "            data = sensor_queue.get(True,timeout)\n",
    "        except queue.Empty:\n",
    "            return None\n",
    "        return data"
   ]
  },
  {
   "cell_type": "markdown",
   "metadata": {},
   "source": [
    "### Creating client"
   ]
  },
  {
   "cell_type": "code",
   "execution_count": 3,
   "metadata": {},
   "outputs": [],
   "source": [
    "# Connect to the client and retrieve the world object\n",
    "client = carla.Client('localhost', 2000)\n",
    "world = client.get_world()"
   ]
  },
  {
   "cell_type": "code",
   "execution_count": 4,
   "metadata": {},
   "outputs": [
    {
     "data": {
      "text/plain": [
       "<carla.libcarla.World at 0x7f467811d150>"
      ]
     },
     "execution_count": 4,
     "metadata": {},
     "output_type": "execute_result"
    }
   ],
   "source": [
    "# load town 04\n",
    "client.load_world('Town04')"
   ]
  },
  {
   "cell_type": "code",
   "execution_count": 5,
   "metadata": {},
   "outputs": [],
   "source": [
    "# Get the blueprint library and filter for the vehicle blueprints\n",
    "vehicle_blueprints = world.get_blueprint_library().filter('*vehicle*')\n",
    "# for blueprint in vehicle_blueprints:\n",
    "#     print(blueprint.id)"
   ]
  },
  {
   "cell_type": "code",
   "execution_count": 6,
   "metadata": {},
   "outputs": [
    {
     "data": {
      "text/plain": [
       "<carla.libcarla.ActorBlueprint at 0x7f46781142d0>"
      ]
     },
     "execution_count": 6,
     "metadata": {},
     "output_type": "execute_result"
    }
   ],
   "source": [
    "# vehicle.mini.cooper_s\n",
    "list(vehicle_blueprints)[-1]"
   ]
  },
  {
   "cell_type": "markdown",
   "metadata": {},
   "source": [
    "### Add vehicles to world"
   ]
  },
  {
   "cell_type": "code",
   "execution_count": 12,
   "metadata": {},
   "outputs": [],
   "source": [
    "# Get the map's spawn points\n",
    "spawn_points = world.get_map().get_spawn_points()\n",
    "\n",
    "vehicle_num = 10\n",
    "\n",
    "# add vehicle_num number of vehicles at random spawn_points\n",
    "for i in range(vehicle_num):\n",
    "    world.try_spawn_actor(list(vehicle_blueprints)[-1], random.choice(spawn_points))"
   ]
  },
  {
   "cell_type": "markdown",
   "metadata": {},
   "source": [
    "### Add sensors to cars"
   ]
  },
  {
   "cell_type": "code",
   "execution_count": 14,
   "metadata": {},
   "outputs": [],
   "source": [
    "camera_init_trans = carla.Transform(carla.Location(z=1.7))\n",
    "lidar_init_trans = carla.Transform(carla.Location(z=3.0))\n",
    "spawned_vehicles = world.get_actors().filter('*vehicle*')\n"
   ]
  },
  {
   "cell_type": "code",
   "execution_count": 9,
   "metadata": {},
   "outputs": [],
   "source": [
    "cam_queue = queue.Queue()\n",
    "lidar_queue = queue.Queue()\n",
    "cam_list = []\n",
    "lidar_list = []\n",
    "for vehicle in spawned_vehicles:\n",
    "    print(vehicle)\n",
    "\n",
    "    # create camera and attach to vehicle\n",
    "    camera_bp = get_cam_blueprint(world, vehicle.id)\n",
    "    camera = world.spawn_actor(camera_bp, camera_init_trans, attach_to=vehicle)\n",
    "    #camera.listen(lambda image: image.save_to_disk(f'sensors/vehicle-id-{vehicle.id}-%06d.png' % image.frame))\n",
    "    camera.listen(cam_queue.put)\n",
    "    cam_list.append(camera)\n",
    "\n",
    "    # create lidar sensor and attach to vehicle\n",
    "    lidar_bp = get_lidar_blueprint(world, vehicle.id)\n",
    "    lidar = world.spawn_actor(lidar_bp, lidar_init_trans, attach_to=vehicle)\n",
    "    lidar.listen(lidar_queue.put)\n",
    "    lidar_list.append(lidar)\n",
    "\n",
    "    # add vehicles to Trafic manager\n",
    "    vehicle.set_autopilot(True)\n",
    "    \n",
    "    ## TODO: ADD GNSS for gps and location\n",
    "    ## TODO: ADD IMU for speed"
   ]
  },
  {
   "cell_type": "markdown",
   "metadata": {},
   "source": [
    "### Local part where the data is processed\n",
    "\n",
    "At this point, data is saved at storage\n",
    "\n",
    "In the future, this queues will be MQ queues to communicate with OMNET+"
   ]
  },
  {
   "cell_type": "code",
   "execution_count": 10,
   "metadata": {},
   "outputs": [],
   "source": [
    "time_sim = 0\n",
    "while True:\n",
    "\n",
    "    # sleep before getting data from queues\n",
    "    time.sleep(1)\n",
    "    \n",
    "    # get cam data\n",
    "    data = retrieve_data(cam_queue)\n",
    "    # Skip if any sensor data is not available\n",
    "    if None in data:\n",
    "        ...\n",
    "    else:\n",
    "        rgb_img = data\n",
    "        # print(rgb_img)\n",
    "        rgb_img.save_to_disk(f'sensors/camera/vehicle-{rgb_img.width - 400}-camera-frame-%06d.png' % rgb_img.frame)\n",
    "    \n",
    "    # get lidar data\n",
    "    lidar_data = retrieve_data(lidar_queue)\n",
    "    if None in data:\n",
    "        ...\n",
    "    else:\n",
    "        #print(\"lidar data:\", lidar_data)\n",
    "        lidar_data.save_to_disk(f'sensors/lidar/vehicle-{lidar_data.channels}-frame-%06d.ply' % rgb_img.frame)"
   ]
  },
  {
   "cell_type": "code",
   "execution_count": 15,
   "metadata": {},
   "outputs": [
    {
     "name": "stdout",
     "output_type": "stream",
     "text": [
      "Actor(id=310, type=vehicle.mini.cooper_s)\n",
      "Actor(id=309, type=vehicle.mini.cooper_s)\n",
      "Actor(id=308, type=vehicle.mini.cooper_s)\n",
      "Actor(id=307, type=vehicle.mini.cooper_s)\n",
      "Actor(id=306, type=vehicle.mini.cooper_s)\n",
      "Actor(id=305, type=vehicle.mini.cooper_s)\n",
      "Actor(id=304, type=vehicle.mini.cooper_s)\n",
      "Actor(id=303, type=vehicle.mini.cooper_s)\n",
      "Actor(id=302, type=vehicle.mini.cooper_s)\n",
      "Actor(id=301, type=vehicle.mini.cooper_s)\n",
      "Actor(id=300, type=vehicle.mini.cooper_s)\n",
      "Actor(id=299, type=vehicle.mini.cooper_s)\n",
      "Actor(id=298, type=vehicle.mini.cooper_s)\n",
      "Actor(id=297, type=vehicle.mini.cooper_s)\n",
      "Actor(id=296, type=vehicle.mini.cooper_s)\n",
      "Actor(id=295, type=vehicle.mini.cooper_s)\n",
      "Actor(id=294, type=vehicle.mini.cooper_s)\n",
      "Actor(id=293, type=vehicle.mini.cooper_s)\n",
      "Actor(id=292, type=vehicle.mini.cooper_s)\n",
      "Actor(id=291, type=vehicle.mini.cooper_s)\n",
      "Actor(id=290, type=vehicle.mini.cooper_s)\n",
      "Actor(id=289, type=vehicle.mini.cooper_s)\n",
      "Actor(id=288, type=vehicle.mini.cooper_s)\n",
      "Actor(id=287, type=vehicle.mini.cooper_s)\n",
      "Actor(id=286, type=vehicle.mini.cooper_s)\n",
      "Actor(id=285, type=vehicle.mini.cooper_s)\n",
      "Actor(id=284, type=vehicle.mini.cooper_s)\n",
      "Actor(id=283, type=vehicle.mini.cooper_s)\n",
      "Actor(id=282, type=vehicle.mini.cooper_s)\n",
      "Actor(id=281, type=vehicle.mini.cooper_s)\n",
      "Actor(id=280, type=vehicle.mini.cooper_s)\n",
      "Actor(id=279, type=vehicle.mini.cooper_s)\n",
      "Actor(id=278, type=vehicle.mini.cooper_s)\n",
      "Actor(id=277, type=vehicle.mini.cooper_s)\n",
      "Actor(id=276, type=vehicle.mini.cooper_s)\n",
      "Actor(id=275, type=vehicle.mini.cooper_s)\n",
      "Actor(id=274, type=vehicle.mini.cooper_s)\n",
      "Actor(id=273, type=vehicle.mini.cooper_s)\n",
      "Actor(id=272, type=vehicle.mini.cooper_s)\n",
      "Actor(id=271, type=vehicle.mini.cooper_s)\n",
      "Actor(id=270, type=vehicle.mini.cooper_s)\n",
      "Actor(id=269, type=vehicle.mini.cooper_s)\n",
      "Actor(id=268, type=vehicle.mini.cooper_s)\n",
      "Actor(id=267, type=vehicle.mini.cooper_s)\n",
      "Actor(id=266, type=vehicle.mini.cooper_s)\n",
      "Actor(id=265, type=vehicle.mini.cooper_s)\n",
      "Actor(id=264, type=vehicle.mini.cooper_s)\n",
      "Actor(id=263, type=vehicle.mini.cooper_s)\n",
      "Actor(id=262, type=vehicle.mini.cooper_s)\n",
      "Actor(id=261, type=vehicle.mini.cooper_s)\n",
      "Actor(id=260, type=vehicle.mini.cooper_s)\n",
      "Actor(id=259, type=vehicle.mini.cooper_s)\n",
      "Actor(id=258, type=vehicle.mini.cooper_s)\n",
      "Actor(id=257, type=vehicle.mini.cooper_s)\n",
      "Actor(id=256, type=vehicle.mini.cooper_s)\n",
      "Actor(id=255, type=vehicle.mini.cooper_s)\n",
      "Actor(id=254, type=vehicle.mini.cooper_s)\n",
      "Actor(id=253, type=vehicle.mini.cooper_s)\n",
      "Actor(id=252, type=vehicle.mini.cooper_s)\n",
      "Actor(id=251, type=vehicle.mini.cooper_s)\n",
      "Actor(id=250, type=vehicle.mini.cooper_s)\n",
      "Actor(id=249, type=vehicle.mini.cooper_s)\n",
      "Actor(id=248, type=vehicle.mini.cooper_s)\n",
      "Actor(id=247, type=vehicle.mini.cooper_s)\n",
      "Actor(id=246, type=vehicle.mini.cooper_s)\n",
      "Actor(id=245, type=vehicle.mini.cooper_s)\n",
      "Actor(id=244, type=vehicle.mini.cooper_s)\n",
      "Actor(id=243, type=vehicle.mini.cooper_s)\n",
      "Actor(id=242, type=vehicle.mini.cooper_s)\n",
      "Actor(id=241, type=vehicle.mini.cooper_s)\n",
      "Actor(id=240, type=vehicle.mini.cooper_s)\n",
      "Actor(id=239, type=vehicle.mini.cooper_s)\n",
      "Actor(id=238, type=vehicle.mini.cooper_s)\n",
      "Actor(id=237, type=vehicle.mini.cooper_s)\n",
      "Actor(id=236, type=vehicle.mini.cooper_s)\n",
      "Actor(id=235, type=vehicle.mini.cooper_s)\n",
      "Actor(id=234, type=vehicle.mini.cooper_s)\n",
      "Actor(id=233, type=vehicle.mini.cooper_s)\n",
      "Actor(id=232, type=vehicle.mini.cooper_s)\n",
      "Actor(id=231, type=vehicle.mini.cooper_s)\n",
      "Actor(id=230, type=vehicle.mini.cooper_s)\n",
      "Actor(id=229, type=vehicle.mini.cooper_s)\n",
      "Actor(id=228, type=vehicle.mini.cooper_s)\n",
      "Actor(id=227, type=vehicle.mini.cooper_s)\n",
      "Actor(id=226, type=vehicle.mini.cooper_s)\n",
      "Actor(id=225, type=vehicle.mini.cooper_s)\n",
      "Actor(id=224, type=vehicle.mini.cooper_s)\n",
      "Actor(id=223, type=vehicle.mini.cooper_s)\n",
      "Actor(id=222, type=vehicle.mini.cooper_s)\n",
      "Actor(id=221, type=vehicle.mini.cooper_s)\n",
      "Actor(id=220, type=vehicle.mini.cooper_s)\n",
      "Actor(id=219, type=vehicle.mini.cooper_s)\n",
      "Actor(id=218, type=vehicle.mini.cooper_s)\n",
      "Actor(id=217, type=vehicle.mini.cooper_s)\n",
      "Actor(id=216, type=vehicle.mini.cooper_s)\n",
      "Actor(id=215, type=vehicle.mini.cooper_s)\n",
      "Actor(id=214, type=vehicle.mini.cooper_s)\n",
      "Actor(id=213, type=vehicle.mini.cooper_s)\n",
      "Actor(id=212, type=vehicle.mini.cooper_s)\n",
      "Actor(id=211, type=vehicle.mini.cooper_s)\n",
      "Actor(id=210, type=vehicle.mini.cooper_s)\n",
      "Actor(id=209, type=vehicle.mini.cooper_s)\n",
      "Actor(id=208, type=vehicle.mini.cooper_s)\n",
      "Actor(id=207, type=vehicle.mini.cooper_s)\n",
      "Actor(id=206, type=vehicle.mini.cooper_s)\n",
      "Actor(id=205, type=vehicle.mini.cooper_s)\n",
      "Actor(id=204, type=vehicle.mini.cooper_s)\n",
      "Actor(id=203, type=vehicle.mini.cooper_s)\n",
      "Actor(id=202, type=vehicle.mini.cooper_s)\n",
      "Actor(id=201, type=vehicle.mini.cooper_s)\n",
      "Actor(id=200, type=vehicle.mini.cooper_s)\n",
      "Actor(id=199, type=vehicle.mini.cooper_s)\n",
      "Actor(id=198, type=vehicle.mini.cooper_s)\n",
      "Actor(id=197, type=vehicle.mini.cooper_s)\n",
      "Actor(id=196, type=vehicle.mini.cooper_s)\n",
      "Actor(id=195, type=vehicle.mini.cooper_s)\n",
      "Actor(id=194, type=vehicle.mini.cooper_s)\n",
      "Actor(id=193, type=vehicle.mini.cooper_s)\n",
      "Actor(id=192, type=vehicle.mini.cooper_s)\n",
      "Actor(id=191, type=vehicle.mini.cooper_s)\n",
      "Actor(id=190, type=vehicle.mini.cooper_s)\n",
      "Actor(id=189, type=vehicle.mini.cooper_s)\n",
      "Actor(id=188, type=vehicle.mini.cooper_s)\n",
      "Actor(id=187, type=vehicle.mini.cooper_s)\n",
      "Actor(id=186, type=vehicle.mini.cooper_s)\n",
      "Actor(id=185, type=vehicle.mini.cooper_s)\n",
      "Actor(id=184, type=vehicle.mini.cooper_s)\n",
      "Actor(id=183, type=vehicle.mini.cooper_s)\n",
      "Actor(id=182, type=vehicle.mini.cooper_s)\n",
      "Actor(id=181, type=vehicle.mini.cooper_s)\n",
      "Actor(id=180, type=vehicle.mini.cooper_s)\n",
      "Actor(id=179, type=vehicle.mini.cooper_s)\n",
      "Actor(id=178, type=vehicle.mini.cooper_s)\n",
      "Actor(id=177, type=vehicle.mini.cooper_s)\n",
      "Actor(id=176, type=vehicle.mini.cooper_s)\n",
      "Actor(id=175, type=vehicle.mini.cooper_s)\n",
      "Actor(id=174, type=vehicle.mini.cooper_s)\n",
      "Actor(id=173, type=vehicle.mini.cooper_s)\n",
      "Actor(id=172, type=vehicle.mini.cooper_s)\n",
      "Actor(id=171, type=vehicle.mini.cooper_s)\n",
      "Actor(id=170, type=vehicle.mini.cooper_s)\n",
      "Actor(id=169, type=vehicle.mini.cooper_s)\n",
      "Actor(id=168, type=vehicle.mini.cooper_s)\n",
      "Actor(id=167, type=vehicle.mini.cooper_s)\n",
      "Actor(id=166, type=vehicle.mini.cooper_s)\n",
      "Actor(id=165, type=vehicle.mini.cooper_s)\n",
      "Actor(id=164, type=vehicle.mini.cooper_s)\n",
      "Actor(id=163, type=vehicle.mini.cooper_s)\n",
      "Actor(id=162, type=vehicle.mini.cooper_s)\n",
      "Actor(id=161, type=vehicle.mini.cooper_s)\n",
      "Actor(id=160, type=vehicle.mini.cooper_s)\n",
      "Actor(id=159, type=vehicle.mini.cooper_s)\n",
      "Actor(id=158, type=vehicle.mini.cooper_s)\n",
      "Actor(id=157, type=vehicle.mini.cooper_s)\n",
      "Actor(id=156, type=vehicle.mini.cooper_s)\n",
      "Actor(id=155, type=vehicle.mini.cooper_s)\n",
      "Actor(id=154, type=vehicle.mini.cooper_s)\n",
      "Actor(id=153, type=vehicle.mini.cooper_s)\n",
      "Actor(id=152, type=vehicle.mini.cooper_s)\n",
      "Actor(id=151, type=vehicle.mini.cooper_s)\n",
      "Actor(id=150, type=vehicle.mini.cooper_s)\n",
      "Actor(id=149, type=vehicle.mini.cooper_s)\n",
      "Actor(id=148, type=vehicle.mini.cooper_s)\n",
      "Actor(id=147, type=vehicle.mini.cooper_s)\n",
      "Actor(id=146, type=vehicle.mini.cooper_s)\n",
      "Actor(id=145, type=vehicle.mini.cooper_s)\n"
     ]
    }
   ],
   "source": [
    "# for vehicle in spawned_vehicles:\n",
    "#     print(vehicle)\n",
    "\n",
    "#     # add vehicles to Trafic manager\n",
    "#     vehicle.set_autopilot(True)\n"
   ]
  },
  {
   "cell_type": "code",
   "execution_count": null,
   "metadata": {},
   "outputs": [],
   "source": []
  }
 ],
 "metadata": {
  "kernelspec": {
   "display_name": "Python 3",
   "language": "python",
   "name": "python3"
  },
  "language_info": {
   "codemirror_mode": {
    "name": "ipython",
    "version": 3
   },
   "file_extension": ".py",
   "mimetype": "text/x-python",
   "name": "python",
   "nbconvert_exporter": "python",
   "pygments_lexer": "ipython3",
   "version": "3.7.16"
  }
 },
 "nbformat": 4,
 "nbformat_minor": 5
}
