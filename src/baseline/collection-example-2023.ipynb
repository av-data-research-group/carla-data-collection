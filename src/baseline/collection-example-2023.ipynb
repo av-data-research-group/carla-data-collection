{
 "cells": [
  {
   "cell_type": "code",
   "execution_count": 14,
   "id": "ac12607f",
   "metadata": {},
   "outputs": [],
   "source": [
    "import carla\n",
    "import random\n",
    "from multiprocessing import Process\n",
    "import queue\n",
    "import re\n",
    "import time"
   ]
  },
  {
   "cell_type": "markdown",
   "id": "bdcd4c64",
   "metadata": {},
   "source": [
    "### Utils functions"
   ]
  },
  {
   "cell_type": "code",
   "execution_count": 2,
   "id": "8c51e09b",
   "metadata": {},
   "outputs": [],
   "source": [
    "SENSOR_TICK = 3\n",
    "\n",
    "def get_cam_blueprint(world, vehicle_id):\n",
    "    cam_bp = world.get_blueprint_library().find('sensor.camera.rgb')\n",
    "    cam_bp.set_attribute(\"image_size_x\",str(400 + vehicle_id))\n",
    "    cam_bp.set_attribute(\"image_size_y\",str(300))\n",
    "    cam_bp.set_attribute(\"fov\",str(100))\n",
    "    cam_bp.set_attribute(\"sensor_tick\",str(SENSOR_TICK))\n",
    "    return cam_bp\n",
    "\n",
    "\n",
    "def get_lidar_blueprint(world, vehicle_id):\n",
    "    lidar_bp = world.get_blueprint_library().find('sensor.lidar.ray_cast')\n",
    "    lidar_bp.set_attribute('sensor_tick', str(SENSOR_TICK))\n",
    "    #lidar_bp.set_attribute('channels', '64')\n",
    "    lidar_bp.set_attribute('channels', str(vehicle_id))\n",
    "    lidar_bp.set_attribute('points_per_second', '1120000')\n",
    "    lidar_bp.set_attribute('upper_fov', '30')\n",
    "    lidar_bp.set_attribute('range', '100')\n",
    "    lidar_bp.set_attribute('rotation_frequency', '20')\n",
    "    return lidar_bp\n",
    "\n",
    "def geolocation_blueprint(world, vehicle_id):\n",
    "    gnss_bp = world.get_blueprint_library().find('sensor.other.gnss')\n",
    "    gnss_bp.set_attribute('sensor_tick', str(SENSOR_TICK))\n",
    "    return gnss_bp\n",
    "\n",
    "\n",
    "def retrieve_data(sensor_queue, timeout=5):\n",
    "    while True:\n",
    "        try:\n",
    "            data = sensor_queue.get(True,timeout)\n",
    "        except queue.Empty:\n",
    "            return None\n",
    "        return data"
   ]
  },
  {
   "cell_type": "markdown",
   "id": "320cee8c",
   "metadata": {},
   "source": [
    "### Creating client"
   ]
  },
  {
   "cell_type": "code",
   "execution_count": 3,
   "id": "8c857ed1",
   "metadata": {},
   "outputs": [],
   "source": [
    "# Connect to the client and retrieve the world object\n",
    "#client = carla.Client('localhost', 2000)\n",
    "client = carla.Client('192.168.0.182', 2000)\n",
    "\n",
    "world = client.get_world()"
   ]
  },
  {
   "cell_type": "code",
   "execution_count": 10,
   "id": "73c03808",
   "metadata": {},
   "outputs": [
    {
     "data": {
      "text/plain": [
       "'Carla/Maps/Town10HD_Opt'"
      ]
     },
     "execution_count": 10,
     "metadata": {},
     "output_type": "execute_result"
    }
   ],
   "source": [
    "#world.__dir__()\n",
    "world.get_map().name"
   ]
  },
  {
   "cell_type": "code",
   "execution_count": 11,
   "id": "d96219b0",
   "metadata": {},
   "outputs": [
    {
     "ename": "RuntimeError",
     "evalue": "time-out of 5000ms while waiting for the simulator, make sure the simulator is ready and connected to 192.168.0.182:2000",
     "output_type": "error",
     "traceback": [
      "\u001b[0;31m---------------------------------------------------------------------------\u001b[0m",
      "\u001b[0;31mRuntimeError\u001b[0m                              Traceback (most recent call last)",
      "\u001b[0;32m/tmp/ipykernel_10861/3355637247.py\u001b[0m in \u001b[0;36m<module>\u001b[0;34m\u001b[0m\n\u001b[1;32m      4\u001b[0m \u001b[0;31m# client.load_world('Town03')\u001b[0m\u001b[0;34m\u001b[0m\u001b[0;34m\u001b[0m\u001b[0;34m\u001b[0m\u001b[0m\n\u001b[1;32m      5\u001b[0m \u001b[0;31m# client.load_world('Town02')\u001b[0m\u001b[0;34m\u001b[0m\u001b[0;34m\u001b[0m\u001b[0;34m\u001b[0m\u001b[0m\n\u001b[0;32m----> 6\u001b[0;31m \u001b[0mclient\u001b[0m\u001b[0;34m.\u001b[0m\u001b[0mload_world\u001b[0m\u001b[0;34m(\u001b[0m\u001b[0;34m\"Town10HD_Opt\"\u001b[0m\u001b[0;34m)\u001b[0m\u001b[0;34m\u001b[0m\u001b[0;34m\u001b[0m\u001b[0m\n\u001b[0m",
      "\u001b[0;31mRuntimeError\u001b[0m: time-out of 5000ms while waiting for the simulator, make sure the simulator is ready and connected to 192.168.0.182:2000"
     ]
    }
   ],
   "source": [
    "# load town 04\n",
    "# client.load_world('Town04')\n",
    "# client.load_world('Town01')\n",
    "# client.load_world('Town03')\n",
    "# client.load_world('Town02')\n",
    "client.load_world(\"Town10HD_Opt\")"
   ]
  },
  {
   "cell_type": "code",
   "execution_count": 18,
   "id": "36639cc9",
   "metadata": {},
   "outputs": [
    {
     "data": {
      "text/plain": [
       "[(<carla.libcarla.WeatherParameters at 0x7f95d473eb70>, 'Clear Night'),\n",
       " (<carla.libcarla.WeatherParameters at 0x7f95d473e390>, 'Clear Noon'),\n",
       " (<carla.libcarla.WeatherParameters at 0x7f95d473e780>, 'Clear Sunset'),\n",
       " (<carla.libcarla.WeatherParameters at 0x7f95d473ec00>, 'Cloudy Night'),\n",
       " (<carla.libcarla.WeatherParameters at 0x7f95d473e420>, 'Cloudy Noon'),\n",
       " (<carla.libcarla.WeatherParameters at 0x7f95d473e810>, 'Cloudy Sunset'),\n",
       " (<carla.libcarla.WeatherParameters at 0x7f95d473e300>, 'Default'),\n",
       " (<carla.libcarla.WeatherParameters at 0x7f95d473ef60>, 'Dust Storm'),\n",
       " (<carla.libcarla.WeatherParameters at 0x7f95d473eed0>, 'Hard Rain Night'),\n",
       " (<carla.libcarla.WeatherParameters at 0x7f95d473e660>, 'Hard Rain Noon'),\n",
       " (<carla.libcarla.WeatherParameters at 0x7f95d473ea50>, 'Hard Rain Sunset'),\n",
       " (<carla.libcarla.WeatherParameters at 0x7f95d473e9c0>, 'Mid Rain Sunset'),\n",
       " (<carla.libcarla.WeatherParameters at 0x7f95d473ee40>, 'Mid Rainy Night'),\n",
       " (<carla.libcarla.WeatherParameters at 0x7f95d473e5d0>, 'Mid Rainy Noon'),\n",
       " (<carla.libcarla.WeatherParameters at 0x7f95d473edb0>, 'Soft Rain Night'),\n",
       " (<carla.libcarla.WeatherParameters at 0x7f95d473e6f0>, 'Soft Rain Noon'),\n",
       " (<carla.libcarla.WeatherParameters at 0x7f95d473eae0>, 'Soft Rain Sunset'),\n",
       " (<carla.libcarla.WeatherParameters at 0x7f95d473ed20>, 'Wet Cloudy Night'),\n",
       " (<carla.libcarla.WeatherParameters at 0x7f95d473e540>, 'Wet Cloudy Noon'),\n",
       " (<carla.libcarla.WeatherParameters at 0x7f95d473e930>, 'Wet Cloudy Sunset'),\n",
       " (<carla.libcarla.WeatherParameters at 0x7f95d473ec90>, 'Wet Night'),\n",
       " (<carla.libcarla.WeatherParameters at 0x7f95d473e4b0>, 'Wet Noon'),\n",
       " (<carla.libcarla.WeatherParameters at 0x7f95d473e8a0>, 'Wet Sunset')]"
      ]
     },
     "execution_count": 18,
     "metadata": {},
     "output_type": "execute_result"
    }
   ],
   "source": [
    "def find_weather_presets():\n",
    "    rgx = re.compile('.+?(?:(?<=[a-z])(?=[A-Z])|(?<=[A-Z])(?=[A-Z][a-z])|$)')\n",
    "    name = lambda x: ' '.join(m.group(0) for m in rgx.finditer(x))\n",
    "    presets = [x for x in dir(carla.WeatherParameters) if re.match('[A-Z].+', x)]\n",
    "    return [(getattr(carla.WeatherParameters, x), name(x)) for x in presets]\n",
    "\n",
    "presets = find_weather_presets()\n",
    "presets"
   ]
  },
  {
   "cell_type": "code",
   "execution_count": 21,
   "id": "8b151d28",
   "metadata": {},
   "outputs": [
    {
     "data": {
      "text/plain": [
       "(<carla.libcarla.WeatherParameters at 0x7f95d473e660>, 'Hard Rain Noon')"
      ]
     },
     "execution_count": 21,
     "metadata": {},
     "output_type": "execute_result"
    }
   ],
   "source": [
    "presets[9]"
   ]
  },
  {
   "cell_type": "code",
   "execution_count": 26,
   "id": "9a8d12ab",
   "metadata": {},
   "outputs": [
    {
     "data": {
      "text/plain": [
       "<carla.libcarla.WeatherParameters at 0x7f95d473e660>"
      ]
     },
     "execution_count": 26,
     "metadata": {},
     "output_type": "execute_result"
    }
   ],
   "source": [
    "presets[9][0]"
   ]
  },
  {
   "cell_type": "code",
   "execution_count": 27,
   "id": "edaa1a48",
   "metadata": {},
   "outputs": [],
   "source": [
    "world.set_weather(presets[9][0])"
   ]
  },
  {
   "cell_type": "code",
   "execution_count": 28,
   "id": "9f0d87db",
   "metadata": {},
   "outputs": [],
   "source": [
    "# Get the blueprint library and filter for the vehicle blueprints\n",
    "vehicle_blueprints = world.get_blueprint_library().filter('*vehicle*')\n",
    "# for blueprint in vehicle_blueprints:\n",
    "#     print(blueprint.id)"
   ]
  },
  {
   "cell_type": "code",
   "execution_count": 29,
   "id": "1b636b92",
   "metadata": {},
   "outputs": [
    {
     "data": {
      "text/plain": [
       "<carla.libcarla.ActorBlueprint at 0x7f95d43927b0>"
      ]
     },
     "execution_count": 29,
     "metadata": {},
     "output_type": "execute_result"
    }
   ],
   "source": [
    "# vehicle.mini.cooper_s\n",
    "list(vehicle_blueprints)[-1]"
   ]
  },
  {
   "cell_type": "markdown",
   "id": "2802f842",
   "metadata": {},
   "source": [
    "### Add vehicles to world"
   ]
  },
  {
   "cell_type": "code",
   "execution_count": 34,
   "id": "9fbfae4a",
   "metadata": {},
   "outputs": [],
   "source": [
    "# Get the map's spawn points\n",
    "spawn_points = world.get_map().get_spawn_points()\n",
    "\n",
    "vehicle_num = 10\n",
    "\n",
    "# add vehicle_num number of vehicles at random spawn_points\n",
    "for i in range(vehicle_num):\n",
    "    world.try_spawn_actor(list(vehicle_blueprints)[-1], random.choice(spawn_points))"
   ]
  },
  {
   "cell_type": "markdown",
   "id": "1e4eaa08",
   "metadata": {},
   "source": [
    "### Add sensors to cars"
   ]
  },
  {
   "cell_type": "code",
   "execution_count": 35,
   "id": "ca71f256",
   "metadata": {},
   "outputs": [],
   "source": [
    "camera_init_trans = carla.Transform(carla.Location(z=1.7))\n",
    "lidar_init_trans = carla.Transform(carla.Location(z=3.0))\n",
    "spawned_vehicles = world.get_actors().filter('*vehicle*')\n"
   ]
  },
  {
   "cell_type": "code",
   "execution_count": null,
   "id": "3a216437",
   "metadata": {},
   "outputs": [],
   "source": [
    "# cam_queue = queue.Queue()\n",
    "# lidar_queue = queue.Queue()\n",
    "# cam_list = []\n",
    "# lidar_list = []\n",
    "# for vehicle in spawned_vehicles:\n",
    "#     print(vehicle)\n",
    "\n",
    "#     # create camera and attach to vehicle\n",
    "#     camera_bp = get_cam_blueprint(world, vehicle.id)\n",
    "#     camera = world.spawn_actor(camera_bp, camera_init_trans, attach_to=vehicle)\n",
    "#     #camera.listen(lambda image: image.save_to_disk(f'sensors/vehicle-id-{vehicle.id}-%06d.png' % image.frame))\n",
    "#     camera.listen(cam_queue.put)\n",
    "#     cam_list.append(camera)\n",
    "\n",
    "#     # create lidar sensor and attach to vehicle\n",
    "#     lidar_bp = get_lidar_blueprint(world, vehicle.id)\n",
    "#     lidar = world.spawn_actor(lidar_bp, lidar_init_trans, attach_to=vehicle)\n",
    "#     lidar.listen(lidar_queue.put)\n",
    "#     lidar_list.append(lidar)\n",
    "\n",
    "#     # add vehicles to Trafic manager\n",
    "#     vehicle.set_autopilot(True)\n",
    "    \n",
    "#     ## TODO: ADD GNSS for gps and location\n",
    "#     ## TODO: ADD IMU for speed"
   ]
  },
  {
   "cell_type": "markdown",
   "id": "9be54558",
   "metadata": {},
   "source": [
    "### Local part where the data is processed\n",
    "\n",
    "At this point, data is saved at storage\n",
    "\n",
    "In the future, this queues will be MQ queues to communicate with OMNET+"
   ]
  },
  {
   "cell_type": "code",
   "execution_count": null,
   "id": "1d527be6",
   "metadata": {},
   "outputs": [],
   "source": [
    "# time_sim = 0\n",
    "# while True:\n",
    "\n",
    "#     # sleep before getting data from queues\n",
    "#     time.sleep(1)\n",
    "    \n",
    "#     # get cam data\n",
    "#     data = retrieve_data(cam_queue)\n",
    "#     # Skip if any sensor data is not available\n",
    "#     if None in data:\n",
    "#         ...\n",
    "#     else:\n",
    "#         rgb_img = data\n",
    "#         # print(rgb_img)\n",
    "#         rgb_img.save_to_disk(f'sensors/camera/vehicle-{rgb_img.width - 400}-camera-frame-%06d.png' % rgb_img.frame)\n",
    "    \n",
    "#     # get lidar data\n",
    "#     lidar_data = retrieve_data(lidar_queue)\n",
    "#     if None in data:\n",
    "#         ...\n",
    "#     else:\n",
    "#         #print(\"lidar data:\", lidar_data)\n",
    "#         lidar_data.save_to_disk(f'sensors/lidar/vehicle-{lidar_data.channels}-frame-%06d.ply' % rgb_img.frame)"
   ]
  },
  {
   "cell_type": "code",
   "execution_count": 32,
   "id": "a4be696c",
   "metadata": {},
   "outputs": [
    {
     "name": "stdout",
     "output_type": "stream",
     "text": [
      "Actor(id=148, type=vehicle.mini.cooper_s)\n",
      "Actor(id=147, type=vehicle.mini.cooper_s)\n",
      "Actor(id=146, type=vehicle.mini.cooper_s)\n",
      "Actor(id=145, type=vehicle.mini.cooper_s)\n",
      "Actor(id=144, type=vehicle.mini.cooper_s)\n",
      "Actor(id=143, type=vehicle.mini.cooper_s)\n",
      "Actor(id=142, type=vehicle.mini.cooper_s)\n",
      "Actor(id=141, type=vehicle.mini.cooper_s)\n",
      "Actor(id=140, type=vehicle.mini.cooper_s)\n",
      "Actor(id=139, type=vehicle.mini.cooper_s)\n",
      "Actor(id=138, type=vehicle.mini.cooper_s)\n",
      "Actor(id=137, type=vehicle.mini.cooper_s)\n",
      "Actor(id=136, type=vehicle.mini.cooper_s)\n",
      "Actor(id=135, type=vehicle.mini.cooper_s)\n",
      "Actor(id=134, type=vehicle.mini.cooper_s)\n",
      "Actor(id=133, type=vehicle.mini.cooper_s)\n",
      "Actor(id=132, type=vehicle.mini.cooper_s)\n",
      "Actor(id=131, type=vehicle.mini.cooper_s)\n",
      "Actor(id=130, type=vehicle.mini.cooper_s)\n",
      "Actor(id=129, type=vehicle.mini.cooper_s)\n",
      "Actor(id=128, type=vehicle.mini.cooper_s)\n",
      "Actor(id=127, type=vehicle.mini.cooper_s)\n",
      "Actor(id=126, type=vehicle.mini.cooper_s)\n",
      "Actor(id=125, type=vehicle.mini.cooper_s)\n",
      "Actor(id=124, type=vehicle.mini.cooper_s)\n",
      "Actor(id=123, type=vehicle.mini.cooper_s)\n",
      "Actor(id=122, type=vehicle.mini.cooper_s)\n",
      "Actor(id=121, type=vehicle.mini.cooper_s)\n",
      "Actor(id=120, type=vehicle.mini.cooper_s)\n",
      "Actor(id=119, type=vehicle.mini.cooper_s)\n",
      "Actor(id=118, type=vehicle.mini.cooper_s)\n",
      "Actor(id=117, type=vehicle.mini.cooper_s)\n",
      "Actor(id=116, type=vehicle.mini.cooper_s)\n",
      "Actor(id=115, type=vehicle.mini.cooper_s)\n",
      "Actor(id=114, type=vehicle.mini.cooper_s)\n",
      "Actor(id=113, type=vehicle.mini.cooper_s)\n",
      "Actor(id=112, type=vehicle.mini.cooper_s)\n",
      "Actor(id=111, type=vehicle.mini.cooper_s)\n",
      "Actor(id=110, type=vehicle.mini.cooper_s)\n",
      "Actor(id=109, type=vehicle.mini.cooper_s)\n",
      "Actor(id=108, type=vehicle.mini.cooper_s)\n",
      "Actor(id=107, type=vehicle.mini.cooper_s)\n",
      "Actor(id=106, type=vehicle.mini.cooper_s)\n",
      "Actor(id=105, type=vehicle.mini.cooper_s)\n",
      "Actor(id=104, type=vehicle.mini.cooper_s)\n",
      "Actor(id=103, type=vehicle.mini.cooper_s)\n",
      "Actor(id=102, type=vehicle.mini.cooper_s)\n",
      "Actor(id=101, type=vehicle.mini.cooper_s)\n",
      "Actor(id=100, type=vehicle.mini.cooper_s)\n",
      "Actor(id=99, type=vehicle.mini.cooper_s)\n",
      "Actor(id=98, type=vehicle.mini.cooper_s)\n",
      "Actor(id=97, type=vehicle.mini.cooper_s)\n",
      "Actor(id=96, type=vehicle.mini.cooper_s)\n",
      "Actor(id=95, type=vehicle.mini.cooper_s)\n",
      "Actor(id=94, type=vehicle.mini.cooper_s)\n",
      "Actor(id=93, type=vehicle.mini.cooper_s)\n",
      "Actor(id=92, type=vehicle.mini.cooper_s)\n",
      "Actor(id=91, type=vehicle.mini.cooper_s)\n",
      "Actor(id=90, type=vehicle.mini.cooper_s)\n",
      "Actor(id=89, type=vehicle.mini.cooper_s)\n",
      "Actor(id=88, type=vehicle.mini.cooper_s)\n",
      "Actor(id=87, type=vehicle.mini.cooper_s)\n",
      "Actor(id=86, type=vehicle.mini.cooper_s)\n",
      "Actor(id=85, type=vehicle.mini.cooper_s)\n",
      "Actor(id=84, type=vehicle.mini.cooper_s)\n",
      "Actor(id=83, type=vehicle.mini.cooper_s)\n",
      "Actor(id=82, type=vehicle.mini.cooper_s)\n",
      "Actor(id=81, type=vehicle.mini.cooper_s)\n",
      "Actor(id=80, type=vehicle.mini.cooper_s)\n",
      "Actor(id=79, type=vehicle.mini.cooper_s)\n",
      "Actor(id=78, type=vehicle.mini.cooper_s)\n",
      "Actor(id=77, type=vehicle.mini.cooper_s)\n",
      "Actor(id=76, type=vehicle.mini.cooper_s)\n",
      "Actor(id=75, type=vehicle.mini.cooper_s)\n",
      "Actor(id=74, type=vehicle.mini.cooper_s)\n",
      "Actor(id=73, type=vehicle.mini.cooper_s)\n",
      "Actor(id=72, type=vehicle.mini.cooper_s)\n",
      "Actor(id=71, type=vehicle.mini.cooper_s)\n",
      "Actor(id=70, type=vehicle.mini.cooper_s)\n",
      "Actor(id=69, type=vehicle.mini.cooper_s)\n",
      "Actor(id=68, type=vehicle.mini.cooper_s)\n",
      "Actor(id=67, type=vehicle.mini.cooper_s)\n",
      "Actor(id=66, type=vehicle.mini.cooper_s)\n",
      "Actor(id=65, type=vehicle.mini.cooper_s)\n",
      "Actor(id=64, type=vehicle.mini.cooper_s)\n",
      "Actor(id=63, type=vehicle.mini.cooper_s)\n",
      "Actor(id=62, type=vehicle.mini.cooper_s)\n",
      "Actor(id=61, type=vehicle.mini.cooper_s)\n",
      "Actor(id=60, type=vehicle.mini.cooper_s)\n",
      "Actor(id=59, type=vehicle.mini.cooper_s)\n",
      "Actor(id=58, type=vehicle.mini.cooper_s)\n",
      "Actor(id=57, type=vehicle.mini.cooper_s)\n",
      "Actor(id=56, type=vehicle.mini.cooper_s)\n",
      "Actor(id=55, type=vehicle.mini.cooper_s)\n",
      "Actor(id=54, type=vehicle.mini.cooper_s)\n",
      "Actor(id=53, type=vehicle.mini.cooper_s)\n",
      "Actor(id=52, type=vehicle.mini.cooper_s)\n",
      "Actor(id=51, type=vehicle.mini.cooper_s)\n",
      "Actor(id=50, type=vehicle.mini.cooper_s)\n",
      "Actor(id=49, type=vehicle.mini.cooper_s)\n",
      "Actor(id=48, type=vehicle.mini.cooper_s)\n",
      "Actor(id=47, type=vehicle.mini.cooper_s)\n"
     ]
    }
   ],
   "source": [
    "for vehicle in spawned_vehicles:\n",
    "    print(vehicle)\n",
    "\n",
    "    # add vehicles to Trafic manager\n",
    "    vehicle.set_autopilot(True)\n"
   ]
  },
  {
   "cell_type": "code",
   "execution_count": 36,
   "id": "a4e13c11",
   "metadata": {},
   "outputs": [],
   "source": [
    "for vehicle in spawned_vehicles:\n",
    "    vehicle.destroy()"
   ]
  },
  {
   "cell_type": "code",
   "execution_count": null,
   "id": "3017e042",
   "metadata": {},
   "outputs": [],
   "source": []
  }
 ],
 "metadata": {
  "kernelspec": {
   "display_name": "Python 3 (ipykernel)",
   "language": "python",
   "name": "python3"
  },
  "language_info": {
   "codemirror_mode": {
    "name": "ipython",
    "version": 3
   },
   "file_extension": ".py",
   "mimetype": "text/x-python",
   "name": "python",
   "nbconvert_exporter": "python",
   "pygments_lexer": "ipython3",
   "version": "3.7.16"
  }
 },
 "nbformat": 4,
 "nbformat_minor": 5
}
