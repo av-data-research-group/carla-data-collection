{
 "cells": [
  {
   "cell_type": "code",
   "execution_count": 1,
   "id": "ac12607f",
   "metadata": {},
   "outputs": [],
   "source": [
    "import carla\n",
    "import random\n",
    "import re\n",
    "import time"
   ]
  },
  {
   "cell_type": "markdown",
   "id": "320cee8c",
   "metadata": {},
   "source": [
    "### Cliente"
   ]
  },
  {
   "cell_type": "code",
   "execution_count": 2,
   "id": "8c857ed1",
   "metadata": {},
   "outputs": [],
   "source": [
    "#client = carla.Client('localhost', 2000)\n",
    "client = carla.Client('10.1.5.81', 2000)\n",
    "client.set_timeout(10.0)\n",
    "world = client.get_world()"
   ]
  },
  {
   "cell_type": "code",
   "execution_count": 3,
   "id": "73c03808",
   "metadata": {},
   "outputs": [
    {
     "name": "stdout",
     "output_type": "stream",
     "text": [
      "/Game/Carla/Maps/Town01\n",
      "/Game/Carla/Maps/Town01_Opt\n",
      "/Game/Carla/Maps/Town02\n",
      "/Game/Carla/Maps/Town02_Opt\n",
      "/Game/Carla/Maps/Town03\n",
      "/Game/Carla/Maps/Town03_Opt\n",
      "/Game/Carla/Maps/Town04\n",
      "/Game/Carla/Maps/Town04_Opt\n",
      "/Game/Carla/Maps/Town05\n",
      "/Game/Carla/Maps/Town05_Opt\n",
      "/Game/Carla/Maps/Town10HD\n",
      "/Game/Carla/Maps/Town10HD_Opt\n"
     ]
    },
    {
     "data": {
      "text/plain": [
       "'Carla/Maps/Town10HD_Opt'"
      ]
     },
     "execution_count": 3,
     "metadata": {},
     "output_type": "execute_result"
    }
   ],
   "source": [
    "# world.__dir__()\n",
    "for map_name in client.get_available_maps():\n",
    "    print(map_name)\n",
    "world.get_map().name"
   ]
  },
  {
   "cell_type": "code",
   "execution_count": 4,
   "id": "d96219b0",
   "metadata": {},
   "outputs": [],
   "source": [
    "# client.load_world('Town04')\n",
    "world = client.load_world(\"Town10HD_Opt\")"
   ]
  },
  {
   "cell_type": "code",
   "execution_count": 5,
   "id": "9f0d87db",
   "metadata": {},
   "outputs": [
    {
     "name": "stdout",
     "output_type": "stream",
     "text": [
      "0 vehicle.audi.a2\n",
      "1 vehicle.citroen.c3\n",
      "2 vehicle.chevrolet.impala\n",
      "3 vehicle.dodge.charger_police_2020\n",
      "4 vehicle.micro.microlino\n",
      "5 vehicle.dodge.charger_police\n",
      "6 vehicle.audi.tt\n",
      "7 vehicle.jeep.wrangler_rubicon\n",
      "8 vehicle.mercedes.coupe\n",
      "9 vehicle.yamaha.yzf\n",
      "10 vehicle.mercedes.coupe_2020\n"
     ]
    }
   ],
   "source": [
    "# Pega a blueprint library and filtra só blueprints de carros\n",
    "vehicle_blueprints = world.get_blueprint_library().filter('*vehicle*')\n",
    "for idx, blueprint in enumerate(vehicle_blueprints):\n",
    "    print(idx, blueprint.id)\n",
    "    if idx == 10:\n",
    "        break"
   ]
  },
  {
   "cell_type": "markdown",
   "id": "2802f842",
   "metadata": {},
   "source": [
    "### Add vehicle to world"
   ]
  },
  {
   "cell_type": "code",
   "execution_count": 6,
   "id": "9fbfae4a",
   "metadata": {},
   "outputs": [
    {
     "data": {
      "text/plain": [
       "<carla.libcarla.Vehicle at 0x7ded6050bed0>"
      ]
     },
     "execution_count": 6,
     "metadata": {},
     "output_type": "execute_result"
    }
   ],
   "source": [
    "# Pega os spawn points do mapa\n",
    "spawn_points = world.get_map().get_spawn_points()\n",
    "# Tesla Cybertruck\n",
    "vehicle = world.try_spawn_actor(list(vehicle_blueprints)[26], random.choice(spawn_points))\n",
    "vehicle"
   ]
  },
  {
   "cell_type": "code",
   "execution_count": 7,
   "id": "43701e00",
   "metadata": {},
   "outputs": [],
   "source": [
    "vehicle_transform = vehicle.get_transform()\n",
    "vehicle_transform.location.z += 2.0\n",
    "world.get_spectator().set_transform(vehicle_transform)"
   ]
  },
  {
   "cell_type": "markdown",
   "id": "1e4eaa08",
   "metadata": {},
   "source": [
    "### Add sensors to car"
   ]
  },
  {
   "cell_type": "code",
   "execution_count": 8,
   "id": "ca71f256",
   "metadata": {},
   "outputs": [],
   "source": [
    "# time in seconds to collect data\n",
    "SENSOR_TICK = 3\n",
    "\n",
    "def get_cam_blueprint(world, vehicle_id):\n",
    "    cam_bp = world.get_blueprint_library().find('sensor.camera.rgb')\n",
    "    cam_bp.set_attribute(\"image_size_x\",str(400))\n",
    "    cam_bp.set_attribute(\"image_size_y\",str(300))\n",
    "    cam_bp.set_attribute(\"fov\",str(100))\n",
    "    cam_bp.set_attribute(\"sensor_tick\",str(SENSOR_TICK))\n",
    "    return cam_bp\n",
    "\n",
    "\n",
    "def get_lidar_blueprint(world, vehicle_id):\n",
    "    lidar_bp = world.get_blueprint_library().find('sensor.lidar.ray_cast')\n",
    "    lidar_bp.set_attribute('sensor_tick', str(SENSOR_TICK))\n",
    "    lidar_bp.set_attribute('channels', '64')\n",
    "    lidar_bp.set_attribute('points_per_second', '1120000')\n",
    "    lidar_bp.set_attribute('upper_fov', '30')\n",
    "    lidar_bp.set_attribute('range', '100')\n",
    "    lidar_bp.set_attribute('rotation_frequency', '100')\n",
    "    return lidar_bp\n",
    "\n",
    "camera_1_init_trans = carla.Transform(carla.Location(z=2.3))\n",
    "camera_2_init_trans = carla.Transform(carla.Location(z=2.3), carla.Rotation(yaw=180))\n",
    "lidar_init_trans = carla.Transform(carla.Location(z=3.0))"
   ]
  },
  {
   "cell_type": "code",
   "execution_count": 10,
   "id": "3a216437",
   "metadata": {},
   "outputs": [],
   "source": [
    "# cria camera e 'anexa' ao carro\n",
    "camera_1_bp = get_cam_blueprint(world, vehicle.id)\n",
    "camera_2_bp = get_cam_blueprint(world, vehicle.id)\n",
    "camera_1 = world.spawn_actor(camera_1_bp, camera_1_init_trans, attach_to=vehicle)\n",
    "camera_2 = world.spawn_actor(camera_2_bp, camera_2_init_trans, attach_to=vehicle)\n",
    "camera_1.listen(lambda image: image.save_to_disk(f\"sensors/camera_1/vehicle-id-{vehicle.id}-frame-{image.frame}.png\"))\n",
    "camera_2.listen(lambda image: image.save_to_disk(f\"sensors/camera_2/vehicle-id-{vehicle.id}-frame-{image.frame}.png\"))\n",
    "\n",
    "# cria lidar e 'anexa' ao carro\n",
    "lidar_bp = get_lidar_blueprint(world, vehicle.id)\n",
    "lidar = world.spawn_actor(lidar_bp, lidar_init_trans, attach_to=vehicle)\n",
    "lidar.listen(lambda data: data.save_to_disk(f'sensors/lidar/vehicle-id-{vehicle.id}-frame-{data.frame}.ply'))\n",
    "\n",
    "# adiciona ao Traffic manager\n",
    "vehicle.set_autopilot(True)"
   ]
  },
  {
   "cell_type": "code",
   "execution_count": 12,
   "id": "44579b9b",
   "metadata": {},
   "outputs": [
    {
     "ename": "KeyboardInterrupt",
     "evalue": "",
     "output_type": "error",
     "traceback": [
      "\u001b[0;31m---------------------------------------------------------------------------\u001b[0m",
      "\u001b[0;31mKeyboardInterrupt\u001b[0m                         Traceback (most recent call last)",
      "\u001b[0;32m/tmp/ipykernel_9931/1530838601.py\u001b[0m in \u001b[0;36m<module>\u001b[0;34m\u001b[0m\n\u001b[1;32m      5\u001b[0m     \u001b[0mtransform\u001b[0m\u001b[0;34m.\u001b[0m\u001b[0mlocation\u001b[0m\u001b[0;34m.\u001b[0m\u001b[0mz\u001b[0m \u001b[0;34m+=\u001b[0m \u001b[0;36m2.0\u001b[0m\u001b[0;34m\u001b[0m\u001b[0;34m\u001b[0m\u001b[0m\n\u001b[1;32m      6\u001b[0m     \u001b[0mspectator\u001b[0m\u001b[0;34m.\u001b[0m\u001b[0mset_transform\u001b[0m\u001b[0;34m(\u001b[0m\u001b[0mtransform\u001b[0m\u001b[0;34m)\u001b[0m\u001b[0;34m\u001b[0m\u001b[0;34m\u001b[0m\u001b[0m\n\u001b[0;32m----> 7\u001b[0;31m     \u001b[0mtime\u001b[0m\u001b[0;34m.\u001b[0m\u001b[0msleep\u001b[0m\u001b[0;34m(\u001b[0m\u001b[0;36m0.004\u001b[0m\u001b[0;34m)\u001b[0m\u001b[0;34m\u001b[0m\u001b[0;34m\u001b[0m\u001b[0m\n\u001b[0m",
      "\u001b[0;31mKeyboardInterrupt\u001b[0m: "
     ]
    }
   ],
   "source": [
    "# Faz o spectator seguir o carro\n",
    "spectator = world.get_spectator()\n",
    "while True:\n",
    "    transform = camera_1.get_transform()\n",
    "    transform.location.z += 2.0\n",
    "    spectator.set_transform(transform)\n",
    "    time.sleep(0.004)"
   ]
  },
  {
   "cell_type": "code",
   "execution_count": null,
   "id": "8111472a",
   "metadata": {},
   "outputs": [],
   "source": [
    "# Remove o carro da simulação\n",
    "vehicle.destroy()"
   ]
  }
 ],
 "metadata": {
  "kernelspec": {
   "display_name": "Python 3 (ipykernel)",
   "language": "python",
   "name": "python3"
  },
  "language_info": {
   "codemirror_mode": {
    "name": "ipython",
    "version": 3
   },
   "file_extension": ".py",
   "mimetype": "text/x-python",
   "name": "python",
   "nbconvert_exporter": "python",
   "pygments_lexer": "ipython3",
   "version": "3.7.12"
  }
 },
 "nbformat": 4,
 "nbformat_minor": 5
}
